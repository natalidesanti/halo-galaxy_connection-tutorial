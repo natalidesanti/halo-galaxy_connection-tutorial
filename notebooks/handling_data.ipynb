{
 "cells": [
  {
   "cell_type": "markdown",
   "id": "6f864f43-f928-4d2b-a1dc-8f5fc17299e4",
   "metadata": {},
   "source": [
    "# Handling data\n",
    "\n",
    "In this notebook we are going to see how to read IllustrisTNG data and see the\n",
    "main aspects that we are going to use from this, as a dataset, for the machine\n",
    "learning session.\n",
    "\n",
    "We are going to work with **IllustrisTNG** halo/galaxy catalog, from [**CAMELS**](https://camels.readthedocs.io/en/latest/). A complete description of the data, as well other user instructions is given in the [webpage](https://camels.readthedocs.io/en/latest/subfind.html)."
   ]
  },
  {
   "cell_type": "markdown",
   "id": "ba5712aa-f16a-4e6e-a6b9-c12b66c66bd5",
   "metadata": {},
   "source": [
    "## 0) Necessary libraries"
   ]
  },
  {
   "cell_type": "code",
   "execution_count": 1,
   "id": "bd1cc802-7532-460f-9918-45ee1637ba72",
   "metadata": {},
   "outputs": [],
   "source": [
    "import numpy as np\n",
    "import pandas as pd\n",
    "import h5py\n",
    "import matplotlib.pyplot as plt\n",
    "import seaborn as sns"
   ]
  },
  {
   "cell_type": "markdown",
   "id": "2dcb6887-c996-4d60-a46d-4c54faebe5f7",
   "metadata": {},
   "source": [
    "## 1) Reading the data\n",
    "\n",
    "The **IllustrisTNG** data is a `.hdf5` file. We can read their content using the library `h5py`, using the `keys` method"
   ]
  },
  {
   "cell_type": "code",
   "execution_count": 2,
   "id": "02d2d1ba-1d67-407b-9673-e34c96e106bc",
   "metadata": {},
   "outputs": [
    {
     "data": {
      "text/plain": [
       "<KeysViewHDF5 ['Config', 'Group', 'Header', 'IDs', 'Parameters', 'Subhalo']>"
      ]
     },
     "execution_count": 2,
     "metadata": {},
     "output_type": "execute_result"
    }
   ],
   "source": [
    "f = h5py.File('../data/fof_subhalo_tab_033.hdf5')\n",
    "f.keys()"
   ]
  },
  {
   "cell_type": "markdown",
   "id": "44b7a5c8-cf09-4efa-bb25-0a504c24bbc8",
   "metadata": {},
   "source": [
    "The catalog specs are given by:"
   ]
  },
  {
   "cell_type": "code",
   "execution_count": 3,
   "id": "87ceb463-3354-4349-871a-723f75353176",
   "metadata": {},
   "outputs": [],
   "source": [
    "BoxSize      = f['Header'].attrs[u'BoxSize']/1e3    #size of the snapshot in comoving Mpc/h\n",
    "redshift     = f['Header'].attrs[u'Redshift']       #reshift of the snapshot\n",
    "scale_factor = f['Header'].attrs[u'Time']           #scale factor\n",
    "h            = f['Header'].attrs[u'HubbleParam']    #value of the hubble parameter in 100 km/s/(Mpc/h)\n",
    "Omega_m      = f['Header'].attrs[u'Omega0']         #Omega_matter\n",
    "Omega_L      = f['Header'].attrs[u'OmegaLambda']    #Omega_baryon"
   ]
  },
  {
   "cell_type": "code",
   "execution_count": 4,
   "id": "3bf5e735-d824-41fd-b7b7-6bebbcc9b142",
   "metadata": {},
   "outputs": [
    {
     "name": "stdout",
     "output_type": "stream",
     "text": [
      "Box size:                 25.00 Mpc/h\n",
      "snapshot redshift:        0.00\n",
      "Omega_m:                  0.300\n",
      "Omega_L:                  0.700\n"
     ]
    }
   ],
   "source": [
    "print('Box size:                 %.2f Mpc/h'%BoxSize)\n",
    "print('snapshot redshift:        %.2f'%redshift)\n",
    "print('Omega_m:                  %.3f'%Omega_m)\n",
    "print('Omega_L:                  %.3f'%Omega_L)"
   ]
  },
  {
   "cell_type": "markdown",
   "id": "ffc75359-42ba-43af-90e2-a603c704a5d6",
   "metadata": {},
   "source": [
    "Apart from the specifications, the catalogs contain two main groups:\n",
    "\n",
    "* **Group:** contains the properties of the halos.\n",
    "\n",
    "* **Subhalos:** contains the properties of the subhalos. Galaxies, are considered as subhalos with stellar mass larger than 0.\n",
    "\n",
    "In this tutorial we are going to work with both (halos and galaxies). So, le't get some of their properties."
   ]
  },
  {
   "cell_type": "markdown",
   "id": "c97635b7-bfbc-422a-b78f-bafaa7671562",
   "metadata": {},
   "source": [
    "## 2) Getting halo and galaxy properties"
   ]
  },
  {
   "cell_type": "code",
   "execution_count": 5,
   "id": "86117a94-742b-4800-97ff-c9bf94b749ee",
   "metadata": {},
   "outputs": [],
   "source": [
    "c = 3.*10**8\n",
    "\n",
    "# Positions, velocities and masses of the halos\n",
    "M_h =   f['Group/Group_M_Crit200'][:]*1e10      #Msun/h\n",
    "R_h =   f['Group/Group_R_Crit200'][:]/c         #kpc/h\n",
    "V_h  =  f['Group/GroupVel'][:]                  #km/s\n",
    "V_h =   np.linalg.norm(V_h, axis = 1)\n",
    "ID_r =  f['Group/GroupFirstSub'][:] #Contains halos without gals as this number = -1\n",
    "ID_h =  np.arange(0, M_h.shape[0], 1, dtype = float) #It is the ID of the halos, to match the gal cat\n",
    "\n",
    "# Positions, stellar masses,  of the galaxies\n",
    "M_g    = f['Subhalo/SubhaloMassType'][:,4]*1e10 #Msun/h\n",
    "color_g = f['Subhalo/SubhaloStellarPhotometrics'][:]\n",
    "color_g = color_g[:, 4] - color_g[:, 6]\n",
    "SFR = f['Subhalo/SubhaloSFR'][:]*1e10 #(Msun/year)/ (10^10 Msun/h)\n",
    "ID_g = np.array(f['Subhalo/SubhaloGrNr']) #Gals IDs\n",
    "\n",
    "# close file\n",
    "f.close()"
   ]
  },
  {
   "cell_type": "markdown",
   "id": "9a47215e-8273-4639-874a-66cf0ac6e3d0",
   "metadata": {},
   "source": [
    "You can see that the number of halos is not the same as the number of galaxies, because we have halos without and with more than one galaxy (central and satellites):"
   ]
  },
  {
   "cell_type": "code",
   "execution_count": 6,
   "id": "fdf74b63-2a29-40d5-9a35-c5d34d8879fa",
   "metadata": {},
   "outputs": [
    {
     "data": {
      "text/plain": [
       "((20131,), (17176,))"
      ]
     },
     "execution_count": 6,
     "metadata": {},
     "output_type": "execute_result"
    }
   ],
   "source": [
    "M_h.shape, M_g.shape"
   ]
  },
  {
   "cell_type": "markdown",
   "id": "753b5721-10ea-4781-8f0a-5396f96d2636",
   "metadata": {},
   "source": [
    "Taking only the halos which have galaxies"
   ]
  },
  {
   "cell_type": "code",
   "execution_count": 7,
   "id": "e7ba6287-3c3e-4d41-86df-c664ba67e89d",
   "metadata": {},
   "outputs": [
    {
     "data": {
      "text/plain": [
       "(13837,)"
      ]
     },
     "execution_count": 7,
     "metadata": {},
     "output_type": "execute_result"
    }
   ],
   "source": [
    "indexes = np.where( ID_r != -1)[0]\n",
    "M_h = M_h[indexes]\n",
    "R_h = R_h[indexes]\n",
    "V_h = V_h[indexes]\n",
    "ID_h = ID_h[indexes]\n",
    "\n",
    "ID_h.shape"
   ]
  },
  {
   "cell_type": "markdown",
   "id": "bc4a376b-ed30-40d1-9235-67f146fed8c5",
   "metadata": {},
   "source": [
    "Creating the halo and galaxy catalogs"
   ]
  },
  {
   "cell_type": "code",
   "execution_count": 8,
   "id": "ff824da5-4e4b-4e29-b90c-050937786252",
   "metadata": {},
   "outputs": [
    {
     "data": {
      "text/html": [
       "<div>\n",
       "<style scoped>\n",
       "    .dataframe tbody tr th:only-of-type {\n",
       "        vertical-align: middle;\n",
       "    }\n",
       "\n",
       "    .dataframe tbody tr th {\n",
       "        vertical-align: top;\n",
       "    }\n",
       "\n",
       "    .dataframe thead th {\n",
       "        text-align: right;\n",
       "    }\n",
       "</style>\n",
       "<table border=\"1\" class=\"dataframe\">\n",
       "  <thead>\n",
       "    <tr style=\"text-align: right;\">\n",
       "      <th></th>\n",
       "      <th>M_h</th>\n",
       "      <th>R_h</th>\n",
       "      <th>V_h</th>\n",
       "      <th>ID</th>\n",
       "    </tr>\n",
       "  </thead>\n",
       "  <tbody>\n",
       "    <tr>\n",
       "      <th>0</th>\n",
       "      <td>4.500575e+13</td>\n",
       "      <td>0.000002</td>\n",
       "      <td>27.004244</td>\n",
       "      <td>0.0</td>\n",
       "    </tr>\n",
       "    <tr>\n",
       "      <th>1</th>\n",
       "      <td>1.912689e+13</td>\n",
       "      <td>0.000001</td>\n",
       "      <td>56.368275</td>\n",
       "      <td>1.0</td>\n",
       "    </tr>\n",
       "    <tr>\n",
       "      <th>2</th>\n",
       "      <td>2.011009e+13</td>\n",
       "      <td>0.000001</td>\n",
       "      <td>188.867279</td>\n",
       "      <td>2.0</td>\n",
       "    </tr>\n",
       "  </tbody>\n",
       "</table>\n",
       "</div>"
      ],
      "text/plain": [
       "            M_h       R_h         V_h   ID\n",
       "0  4.500575e+13  0.000002   27.004244  0.0\n",
       "1  1.912689e+13  0.000001   56.368275  1.0\n",
       "2  2.011009e+13  0.000001  188.867279  2.0"
      ]
     },
     "execution_count": 8,
     "metadata": {},
     "output_type": "execute_result"
    }
   ],
   "source": [
    "data = np.array( [ M_h, R_h, V_h, ID_h ] ).T\n",
    "columns = [ 'M_h', 'R_h', 'V_h', 'ID' ] \n",
    "halos = pd.DataFrame(data = data, columns = columns)\n",
    "halos.head(3)"
   ]
  },
  {
   "cell_type": "code",
   "execution_count": 9,
   "id": "388baa68-8266-4179-84b7-ba9923121714",
   "metadata": {},
   "outputs": [
    {
     "data": {
      "text/html": [
       "<div>\n",
       "<style scoped>\n",
       "    .dataframe tbody tr th:only-of-type {\n",
       "        vertical-align: middle;\n",
       "    }\n",
       "\n",
       "    .dataframe tbody tr th {\n",
       "        vertical-align: top;\n",
       "    }\n",
       "\n",
       "    .dataframe thead th {\n",
       "        text-align: right;\n",
       "    }\n",
       "</style>\n",
       "<table border=\"1\" class=\"dataframe\">\n",
       "  <thead>\n",
       "    <tr style=\"text-align: right;\">\n",
       "      <th></th>\n",
       "      <th>M_g</th>\n",
       "      <th>color_g</th>\n",
       "      <th>SFR_g</th>\n",
       "      <th>ID</th>\n",
       "    </tr>\n",
       "  </thead>\n",
       "  <tbody>\n",
       "    <tr>\n",
       "      <th>0</th>\n",
       "      <td>4.267894e+11</td>\n",
       "      <td>1.126476</td>\n",
       "      <td>0.000000e+00</td>\n",
       "      <td>0.0</td>\n",
       "    </tr>\n",
       "    <tr>\n",
       "      <th>1</th>\n",
       "      <td>2.398532e+10</td>\n",
       "      <td>0.826265</td>\n",
       "      <td>1.699688e+10</td>\n",
       "      <td>0.0</td>\n",
       "    </tr>\n",
       "    <tr>\n",
       "      <th>2</th>\n",
       "      <td>1.551164e+10</td>\n",
       "      <td>0.798616</td>\n",
       "      <td>2.204744e+09</td>\n",
       "      <td>0.0</td>\n",
       "    </tr>\n",
       "  </tbody>\n",
       "</table>\n",
       "</div>"
      ],
      "text/plain": [
       "            M_g   color_g         SFR_g   ID\n",
       "0  4.267894e+11  1.126476  0.000000e+00  0.0\n",
       "1  2.398532e+10  0.826265  1.699688e+10  0.0\n",
       "2  1.551164e+10  0.798616  2.204744e+09  0.0"
      ]
     },
     "execution_count": 9,
     "metadata": {},
     "output_type": "execute_result"
    }
   ],
   "source": [
    "data = np.array( [ M_g, color_g, SFR, ID_g ] ).T\n",
    "columns = [ 'M_g', 'color_g', 'SFR_g', 'ID' ] \n",
    "gals = pd.DataFrame(data = data, columns = columns)\n",
    "gals.head(3)"
   ]
  },
  {
   "cell_type": "markdown",
   "id": "a53fe731-2645-47c3-985c-072ea6006567",
   "metadata": {},
   "source": [
    "Keeping only central galaxies"
   ]
  },
  {
   "cell_type": "code",
   "execution_count": 10,
   "id": "b228d96e-df2a-4a8b-81ed-626663a38896",
   "metadata": {},
   "outputs": [],
   "source": [
    "gals = gals.drop_duplicates(subset = ['ID'], keep = 'first')"
   ]
  },
  {
   "cell_type": "markdown",
   "id": "fbd01262-027a-4016-b6ed-71954210ef8e",
   "metadata": {},
   "source": [
    "Matching the catalogs"
   ]
  },
  {
   "cell_type": "code",
   "execution_count": 11,
   "id": "bdc91acd-47b8-4c8d-ae94-a49edd4527c1",
   "metadata": {},
   "outputs": [
    {
     "data": {
      "text/plain": [
       "(13837, 7)"
      ]
     },
     "execution_count": 11,
     "metadata": {},
     "output_type": "execute_result"
    }
   ],
   "source": [
    "df = pd.merge(left = halos, right = gals, left_on = 'ID', right_on = 'ID')\n",
    "df.shape"
   ]
  },
  {
   "cell_type": "markdown",
   "id": "f18d85ad-eb83-4b4a-8243-ba2a1a0d2b32",
   "metadata": {},
   "source": [
    "Cleaning the data"
   ]
  },
  {
   "cell_type": "code",
   "execution_count": 12,
   "id": "f22c1641-0019-481d-bbb4-afd1711180a5",
   "metadata": {},
   "outputs": [
    {
     "data": {
      "text/plain": [
       "(1514, 6)"
      ]
     },
     "execution_count": 12,
     "metadata": {},
     "output_type": "execute_result"
    }
   ],
   "source": [
    "df = df[ df['M_g'] > 0 ] #Considering only galaxies\n",
    "df['SFR_g'] = df['SFR_g'].replace(0, 1)\n",
    "df['SFR_g'] = np.log10(df['SFR_g'])\n",
    "df.loc[df['SFR_g'] == 0, \"SFR_g\"] = np.random.normal(7, 0.5, len(df.loc[df[\"SFR_g\"] == 0]))\n",
    "df = df.drop(['ID'], axis = 1)\n",
    "df.shape"
   ]
  },
  {
   "cell_type": "markdown",
   "id": "dd0856de-8250-4c41-a11a-1eefe33c53dd",
   "metadata": {},
   "source": [
    "Now, let's see some statiscs from these halos/galaxies:"
   ]
  },
  {
   "cell_type": "code",
   "execution_count": 13,
   "id": "e03b48c2-72e5-4883-9b05-af560add527e",
   "metadata": {},
   "outputs": [
    {
     "data": {
      "text/html": [
       "<div>\n",
       "<style scoped>\n",
       "    .dataframe tbody tr th:only-of-type {\n",
       "        vertical-align: middle;\n",
       "    }\n",
       "\n",
       "    .dataframe tbody tr th {\n",
       "        vertical-align: top;\n",
       "    }\n",
       "\n",
       "    .dataframe thead th {\n",
       "        text-align: right;\n",
       "    }\n",
       "</style>\n",
       "<table border=\"1\" class=\"dataframe\">\n",
       "  <thead>\n",
       "    <tr style=\"text-align: right;\">\n",
       "      <th></th>\n",
       "      <th>M_h</th>\n",
       "      <th>R_h</th>\n",
       "      <th>V_h</th>\n",
       "      <th>M_g</th>\n",
       "      <th>color_g</th>\n",
       "      <th>SFR_g</th>\n",
       "    </tr>\n",
       "  </thead>\n",
       "  <tbody>\n",
       "    <tr>\n",
       "      <th>count</th>\n",
       "      <td>1.514000e+03</td>\n",
       "      <td>1.514000e+03</td>\n",
       "      <td>1514.000000</td>\n",
       "      <td>1.514000e+03</td>\n",
       "      <td>1514.000000</td>\n",
       "      <td>1514.000000</td>\n",
       "    </tr>\n",
       "    <tr>\n",
       "      <th>mean</th>\n",
       "      <td>2.590867e+11</td>\n",
       "      <td>2.269759e-07</td>\n",
       "      <td>159.914377</td>\n",
       "      <td>3.018712e+09</td>\n",
       "      <td>0.678903</td>\n",
       "      <td>7.606313</td>\n",
       "    </tr>\n",
       "    <tr>\n",
       "      <th>std</th>\n",
       "      <td>1.656051e+12</td>\n",
       "      <td>1.490707e-07</td>\n",
       "      <td>84.731841</td>\n",
       "      <td>1.944717e+10</td>\n",
       "      <td>0.192099</td>\n",
       "      <td>1.061800</td>\n",
       "    </tr>\n",
       "    <tr>\n",
       "      <th>min</th>\n",
       "      <td>1.443876e+09</td>\n",
       "      <td>6.127277e-08</td>\n",
       "      <td>7.104222</td>\n",
       "      <td>1.739187e+06</td>\n",
       "      <td>-0.794176</td>\n",
       "      <td>5.146663</td>\n",
       "    </tr>\n",
       "    <tr>\n",
       "      <th>25%</th>\n",
       "      <td>2.201826e+10</td>\n",
       "      <td>1.519423e-07</td>\n",
       "      <td>100.411592</td>\n",
       "      <td>1.297332e+07</td>\n",
       "      <td>0.638956</td>\n",
       "      <td>6.828298</td>\n",
       "    </tr>\n",
       "    <tr>\n",
       "      <th>50%</th>\n",
       "      <td>4.039674e+10</td>\n",
       "      <td>1.860214e-07</td>\n",
       "      <td>144.193092</td>\n",
       "      <td>3.437585e+07</td>\n",
       "      <td>0.700603</td>\n",
       "      <td>7.306780</td>\n",
       "    </tr>\n",
       "    <tr>\n",
       "      <th>75%</th>\n",
       "      <td>9.681791e+10</td>\n",
       "      <td>2.489396e-07</td>\n",
       "      <td>204.188789</td>\n",
       "      <td>2.047698e+08</td>\n",
       "      <td>0.764560</td>\n",
       "      <td>8.289084</td>\n",
       "    </tr>\n",
       "    <tr>\n",
       "      <th>max</th>\n",
       "      <td>4.500575e+13</td>\n",
       "      <td>1.928402e-06</td>\n",
       "      <td>563.310913</td>\n",
       "      <td>4.267894e+11</td>\n",
       "      <td>1.197241</td>\n",
       "      <td>10.718828</td>\n",
       "    </tr>\n",
       "  </tbody>\n",
       "</table>\n",
       "</div>"
      ],
      "text/plain": [
       "                M_h           R_h          V_h           M_g      color_g  \\\n",
       "count  1.514000e+03  1.514000e+03  1514.000000  1.514000e+03  1514.000000   \n",
       "mean   2.590867e+11  2.269759e-07   159.914377  3.018712e+09     0.678903   \n",
       "std    1.656051e+12  1.490707e-07    84.731841  1.944717e+10     0.192099   \n",
       "min    1.443876e+09  6.127277e-08     7.104222  1.739187e+06    -0.794176   \n",
       "25%    2.201826e+10  1.519423e-07   100.411592  1.297332e+07     0.638956   \n",
       "50%    4.039674e+10  1.860214e-07   144.193092  3.437585e+07     0.700603   \n",
       "75%    9.681791e+10  2.489396e-07   204.188789  2.047698e+08     0.764560   \n",
       "max    4.500575e+13  1.928402e-06   563.310913  4.267894e+11     1.197241   \n",
       "\n",
       "             SFR_g  \n",
       "count  1514.000000  \n",
       "mean      7.606313  \n",
       "std       1.061800  \n",
       "min       5.146663  \n",
       "25%       6.828298  \n",
       "50%       7.306780  \n",
       "75%       8.289084  \n",
       "max      10.718828  "
      ]
     },
     "execution_count": 13,
     "metadata": {},
     "output_type": "execute_result"
    }
   ],
   "source": [
    "df.describe()"
   ]
  },
  {
   "cell_type": "markdown",
   "id": "0d127ecc-c486-455b-b3a9-e15eda8f852b",
   "metadata": {},
   "source": [
    "## 3) Data-preprocessing\n",
    "\n",
    "It is important to deal with data in small range, usually, around 1 and 0. So, let's take the $log_{10}$ of the properties"
   ]
  },
  {
   "cell_type": "code",
   "execution_count": 14,
   "id": "ae6e45ea-a083-455b-85ab-4b0009ad4069",
   "metadata": {},
   "outputs": [],
   "source": [
    "df['M_h'] = np.log10(df['M_h'])\n",
    "df['R_h'] = np.log10(df['R_h'])\n",
    "df['V_h'] = np.log10(df['V_h'])\n",
    "df['M_g'] = np.log10(df['M_g'])"
   ]
  },
  {
   "cell_type": "code",
   "execution_count": 15,
   "id": "3328a79b-0a54-49b3-a126-df0845644945",
   "metadata": {},
   "outputs": [
    {
     "data": {
      "text/plain": [
       "Text(0.5, 0, 'V_h')"
      ]
     },
     "execution_count": 15,
     "metadata": {},
     "output_type": "execute_result"
    },
    {
     "data": {
      "image/png": "[encoded data removed]",
      "text/plain": [
       "<Figure size 1500x500 with 3 Axes>"
      ]
     },
     "metadata": {
      "needs_background": "light"
     },
     "output_type": "display_data"
    }
   ],
   "source": [
    "fig = plt.figure(dpi = 100, figsize = (15, 5))\n",
    "gs = fig.add_gridspec(1, 3, hspace = 0, wspace = 0)\n",
    "axs = gs.subplots(sharey = True)\n",
    "\n",
    "fig.suptitle('Halo properties')\n",
    "\n",
    "axs[0].hist(df['M_h'])\n",
    "axs[0].set_yscale('log')\n",
    "axs[0].set_xlabel('M_h')\n",
    "axs[0].set_ylabel('# halos')\n",
    "\n",
    "axs[1].hist(df['R_h'])\n",
    "axs[1].set_yscale('log')\n",
    "axs[1].set_xlabel('R_h')\n",
    "\n",
    "axs[2].hist(df['V_h'])\n",
    "axs[2].set_yscale('log')\n",
    "axs[2].set_xlabel('V_h')"
   ]
  },
  {
   "cell_type": "code",
   "execution_count": 16,
   "id": "0094ecf2-c34f-4b86-9076-ed83260c98d0",
   "metadata": {},
   "outputs": [
    {
     "data": {
      "text/plain": [
       "Text(0.5, 0, 'SFR')"
      ]
     },
     "execution_count": 16,
     "metadata": {},
     "output_type": "execute_result"
    },
    {
     "data": {
      "image/png": "[encoded data removed]",
      "text/plain": [
       "<Figure size 1500x500 with 3 Axes>"
      ]
     },
     "metadata": {
      "needs_background": "light"
     },
     "output_type": "display_data"
    }
   ],
   "source": [
    "fig = plt.figure(dpi = 100, figsize = (15, 5))\n",
    "gs = fig.add_gridspec(1, 3, hspace = 0, wspace = 0)\n",
    "axs = gs.subplots(sharey = True)\n",
    "\n",
    "fig.suptitle('Galaxy properties')\n",
    "\n",
    "axs[0].hist(df['M_g'])\n",
    "axs[0].set_yscale('log')\n",
    "axs[0].set_xlabel(r'$M_{\\star}$')\n",
    "axs[0].set_ylabel('# halos')\n",
    "\n",
    "axs[1].hist(df['color_g'])\n",
    "axs[1].set_yscale('log')\n",
    "axs[1].set_xlabel('Color')\n",
    "\n",
    "axs[2].hist(df['SFR_g'])\n",
    "axs[2].set_yscale('log')\n",
    "axs[2].set_xlabel('SFR')"
   ]
  },
  {
   "cell_type": "markdown",
   "id": "aa8420ba-cf48-4353-a18d-a400bb4ff47f",
   "metadata": {},
   "source": [
    "## 4) Measuring the correlation among halo/galaxy properties"
   ]
  },
  {
   "cell_type": "code",
   "execution_count": 17,
   "id": "d63e369f-81c9-442e-889f-139e18669add",
   "metadata": {},
   "outputs": [],
   "source": [
    "def correlation_heatmap(df):\n",
    "    correlations = df.corr(method = 'pearson')\n",
    "\n",
    "    fig, ax = plt.subplots(figsize = (10,10))\n",
    "    sns.heatmap(correlations, vmax = 1.0, center = 0, fmt = '.2f',\n",
    "                square=True, linewidths=.5, annot=True, cbar_kws={\"shrink\": .82})\n",
    "    plt.title('Pearson correlation Heatmap')\n",
    "    plt.show()\n",
    "    \n",
    "    return correlations"
   ]
  },
  {
   "cell_type": "code",
   "execution_count": 18,
   "id": "e38a6de2-967d-437b-b4d0-c1b8a317df59",
   "metadata": {},
   "outputs": [
    {
     "data": {
      "image/png": "[encoded data removed]",
      "text/plain": [
       "<Figure size 720x720 with 2 Axes>"
      ]
     },
     "metadata": {
      "needs_background": "light"
     },
     "output_type": "display_data"
    },
    {
     "data": {
      "text/html": [
       "<div>\n",
       "<style scoped>\n",
       "    .dataframe tbody tr th:only-of-type {\n",
       "        vertical-align: middle;\n",
       "    }\n",
       "\n",
       "    .dataframe tbody tr th {\n",
       "        vertical-align: top;\n",
       "    }\n",
       "\n",
       "    .dataframe thead th {\n",
       "        text-align: right;\n",
       "    }\n",
       "</style>\n",
       "<table border=\"1\" class=\"dataframe\">\n",
       "  <thead>\n",
       "    <tr style=\"text-align: right;\">\n",
       "      <th></th>\n",
       "      <th>M_h</th>\n",
       "      <th>R_h</th>\n",
       "      <th>V_h</th>\n",
       "      <th>M_g</th>\n",
       "      <th>color_g</th>\n",
       "      <th>SFR_g</th>\n",
       "    </tr>\n",
       "  </thead>\n",
       "  <tbody>\n",
       "    <tr>\n",
       "      <th>M_h</th>\n",
       "      <td>1.000000</td>\n",
       "      <td>1.000000</td>\n",
       "      <td>-0.154836</td>\n",
       "      <td>0.910068</td>\n",
       "      <td>0.113225</td>\n",
       "      <td>0.551197</td>\n",
       "    </tr>\n",
       "    <tr>\n",
       "      <th>R_h</th>\n",
       "      <td>1.000000</td>\n",
       "      <td>1.000000</td>\n",
       "      <td>-0.154837</td>\n",
       "      <td>0.910068</td>\n",
       "      <td>0.113225</td>\n",
       "      <td>0.551197</td>\n",
       "    </tr>\n",
       "    <tr>\n",
       "      <th>V_h</th>\n",
       "      <td>-0.154836</td>\n",
       "      <td>-0.154837</td>\n",
       "      <td>1.000000</td>\n",
       "      <td>-0.082602</td>\n",
       "      <td>0.017113</td>\n",
       "      <td>-0.051056</td>\n",
       "    </tr>\n",
       "    <tr>\n",
       "      <th>M_g</th>\n",
       "      <td>0.910068</td>\n",
       "      <td>0.910068</td>\n",
       "      <td>-0.082602</td>\n",
       "      <td>1.000000</td>\n",
       "      <td>0.162549</td>\n",
       "      <td>0.615024</td>\n",
       "    </tr>\n",
       "    <tr>\n",
       "      <th>color_g</th>\n",
       "      <td>0.113225</td>\n",
       "      <td>0.113225</td>\n",
       "      <td>0.017113</td>\n",
       "      <td>0.162549</td>\n",
       "      <td>1.000000</td>\n",
       "      <td>-0.306075</td>\n",
       "    </tr>\n",
       "    <tr>\n",
       "      <th>SFR_g</th>\n",
       "      <td>0.551197</td>\n",
       "      <td>0.551197</td>\n",
       "      <td>-0.051056</td>\n",
       "      <td>0.615024</td>\n",
       "      <td>-0.306075</td>\n",
       "      <td>1.000000</td>\n",
       "    </tr>\n",
       "  </tbody>\n",
       "</table>\n",
       "</div>"
      ],
      "text/plain": [
       "              M_h       R_h       V_h       M_g   color_g     SFR_g\n",
       "M_h      1.000000  1.000000 -0.154836  0.910068  0.113225  0.551197\n",
       "R_h      1.000000  1.000000 -0.154837  0.910068  0.113225  0.551197\n",
       "V_h     -0.154836 -0.154837  1.000000 -0.082602  0.017113 -0.051056\n",
       "M_g      0.910068  0.910068 -0.082602  1.000000  0.162549  0.615024\n",
       "color_g  0.113225  0.113225  0.017113  0.162549  1.000000 -0.306075\n",
       "SFR_g    0.551197  0.551197 -0.051056  0.615024 -0.306075  1.000000"
      ]
     },
     "execution_count": 18,
     "metadata": {},
     "output_type": "execute_result"
    }
   ],
   "source": [
    "correlation_heatmap(df)"
   ]
  },
  {
   "cell_type": "markdown",
   "id": "2fa28c70-73f3-4a4e-b06d-fea29ae41164",
   "metadata": {},
   "source": [
    "## 5) Saving the dataset"
   ]
  },
  {
   "cell_type": "code",
   "execution_count": 19,
   "id": "a0ed2b73-2c1a-4560-a25b-13df2b365199",
   "metadata": {},
   "outputs": [],
   "source": [
    "df.to_csv('../data/halos_and_gals.csv')"
   ]
  },
  {
   "cell_type": "code",
   "execution_count": null,
   "id": "084da20f-662d-4ed7-b3df-8987543b0012",
   "metadata": {},
   "outputs": [],
   "source": []
  }
 ],
 "metadata": {
  "kernelspec": {
   "display_name": "Python 3",
   "language": "python",
   "name": "python3"
  },
  "language_info": {
   "codemirror_mode": {
    "name": "ipython",
    "version": 3
   },
   "file_extension": ".py",
   "mimetype": "text/x-python",
   "name": "python",
   "nbconvert_exporter": "python",
   "pygments_lexer": "ipython3",
   "version": "3.8.10"
  }
 },
 "nbformat": 4,
 "nbformat_minor": 5
}
