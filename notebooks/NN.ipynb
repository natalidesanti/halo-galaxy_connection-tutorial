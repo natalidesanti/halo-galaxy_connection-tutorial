{
 "cells": [
  {
   "cell_type": "markdown",
   "id": "4453e3bb-e1ad-4f60-bfc4-6853e7f67c24",
   "metadata": {},
   "source": [
    "# Neural Network predictions\n",
    "\n",
    "### Authors: [Natalí S. M. de Santi](https://natalidesanti.github.io/) and [Christopher Lovell](https://www.christopherlovell.co.uk/)\n",
    "\n",
    "In this notebook we are going to see how to build a **Neural Network** to predict some galaxy properties, based in some halo properties.\n",
    "\n",
    "[![Open this notebook in Colab](https://colab.research.google.com/assets/colab-badge.svg)](https://colab.research.google.com/github/natalidesanti/galevo23-tutorials/blob/tutorial_on_halo-galaxy_connection/week-2/tutorial_on_halo-galaxy_connection/notebooks/NN.ipynb)"
   ]
  },
  {
   "cell_type": "markdown",
   "id": "b20f2b4f-8bbd-4ff8-a811-ce90217e83b6",
   "metadata": {},
   "source": [
    "## 0) Necessary libraries"
   ]
  },
  {
   "cell_type": "code",
   "execution_count": 1,
   "id": "7a013485-08ce-49ae-a3cd-05524537b51f",
   "metadata": {},
   "outputs": [],
   "source": [
    "import numpy as np\n",
    "import matplotlib.pyplot as plt\n",
    "import pandas as pd\n",
    "import h5py\n",
    "import seaborn as sns\n",
    "from keras import models\n",
    "from keras import layers\n",
    "from keras import regularizers\n",
    "import os\n",
    "from scipy.stats import gaussian_kde\n",
    "from numpy.random import seed\n",
    "from keras.wrappers.scikit_learn import KerasRegressor\n",
    "from sklearn.model_selection import train_test_split\n",
    "from sklearn.metrics import mean_squared_error\n",
    "from numpy.random import seed\n",
    "from tensorflow.keras.utils import set_random_seed"
   ]
  },
  {
   "cell_type": "code",
   "execution_count": 2,
   "id": "66fd21e5-c755-4855-a63d-10c259545613",
   "metadata": {},
   "outputs": [],
   "source": [
    "seed(42)\n",
    "set_random_seed(42)"
   ]
  },
  {
   "cell_type": "markdown",
   "id": "c617edb0-68a8-4e3c-9031-f86af9f44275",
   "metadata": {},
   "source": [
    "## 1) Reading the data\n",
    "\n",
    "We will work with the catalogs generated with `handling_data.ipynb`."
   ]
  },
  {
   "cell_type": "code",
   "execution_count": 3,
   "id": "b151783c-ae07-4330-afef-9a57c876b95f",
   "metadata": {},
   "outputs": [],
   "source": [
    "# # Load the data in this way if you have it in the directory\n",
    "# df_train = pd.read_csv('../data/train-halos_and_gals.csv')\n",
    "# df_test = pd.read_csv('../data/test-halos_and_gals.csv')"
   ]
  },
  {
   "cell_type": "code",
   "execution_count": 4,
   "id": "7763d51b-f892-417e-889d-3736c5beaee8",
   "metadata": {},
   "outputs": [],
   "source": [
    "# Downloading it from the cloud\n",
    "!wget -q -nc -O test-halos_and_gals.csv https://www.dropbox.com/s/y9rsx6gtjsdr7r1/test-halos_and_gals.csv?dl=0\n",
    "!wget -q -nc -O train-halos_and_gals.csv https://www.dropbox.com/s/gncweskcappi81t/train-halos_and_gals.csv?dl=0"
   ]
  },
  {
   "cell_type": "code",
   "execution_count": 5,
   "id": "3c009c83-5289-4845-85b9-6dccfb221a51",
   "metadata": {},
   "outputs": [],
   "source": [
    "df_train = pd.read_csv('train-halos_and_gals.csv')\n",
    "df_test = pd.read_csv('test-halos_and_gals.csv')"
   ]
  },
  {
   "cell_type": "markdown",
   "id": "ec954449-4fe7-44d1-9690-b0ae0836a909",
   "metadata": {},
   "source": [
    "Getting\n",
    "* halos: mass, radius, velocity modulus\n",
    "* galaxies: stellar mass, color, SFR"
   ]
  },
  {
   "cell_type": "code",
   "execution_count": 6,
   "id": "f6a91f39-6aaf-4dc0-aa70-d1a71810c0e2",
   "metadata": {},
   "outputs": [],
   "source": [
    "x_train = np.array([df_train['M_h'], df_train['R_h'], df_train['V_h']]).T\n",
    "x_test = np.array([df_test['M_h'], df_test['R_h'], df_test['V_h']]).T\n",
    "\n",
    "y_train = np.array([df_train['M_g'], df_train['color_g'], df_train['SFR_g']]).T\n",
    "y_test = np.array([df_test['M_g'], df_test['color_g'], df_test['SFR_g']]).T"
   ]
  },
  {
   "cell_type": "code",
   "execution_count": 7,
   "id": "65f294e4-e192-4dd3-814f-586231aca83e",
   "metadata": {},
   "outputs": [
    {
     "data": {
      "text/plain": [
       "((1211, 3), (303, 3), (1211, 3), (303, 3))"
      ]
     },
     "execution_count": 7,
     "metadata": {},
     "output_type": "execute_result"
    }
   ],
   "source": [
    "x_train.shape, x_test.shape, y_train.shape, y_test.shape"
   ]
  },
  {
   "cell_type": "markdown",
   "id": "5eaf50ff-abc3-47f8-b35e-92b19776dc0e",
   "metadata": {},
   "source": [
    "## 2) Pre-processing the data"
   ]
  },
  {
   "cell_type": "code",
   "execution_count": 8,
   "id": "a38d132e-9c1c-4666-b0f5-e6d5eabfa9b2",
   "metadata": {},
   "outputs": [
    {
     "data": {
      "text/plain": [
       "(array([10.72031404, -6.69246455,  2.14441201]),\n",
       " array([0.57831041, 0.19277028, 0.24073891]))"
      ]
     },
     "execution_count": 8,
     "metadata": {},
     "output_type": "execute_result"
    }
   ],
   "source": [
    "#Taking mean and std\n",
    "mean_data = np.mean(x_train, axis = 0)\n",
    "std_data = np.std(x_train, axis = 0)\n",
    "mean_data, std_data"
   ]
  },
  {
   "cell_type": "markdown",
   "id": "e2375995-7fcd-4eeb-8671-ce0f1f548213",
   "metadata": {},
   "source": [
    "Doing the following transformation\n",
    "\\begin{equation}\n",
    " data \\Rightarrow \\frac{(data - mean)}{std}\n",
    "\\end{equation}"
   ]
  },
  {
   "cell_type": "code",
   "execution_count": 9,
   "id": "b8002c2c-ac23-476b-9915-14ef3db23fe4",
   "metadata": {},
   "outputs": [],
   "source": [
    "x_train -= mean_data\n",
    "x_train /= std_data\n",
    "x_test -= mean_data\n",
    "x_test /= std_data"
   ]
  },
  {
   "cell_type": "markdown",
   "id": "44c92651-e9c9-4d5b-a0f6-375aecf77f2c",
   "metadata": {},
   "source": [
    "## 3) Neural Networks\n",
    "\n",
    "A **neural network** is a collection of _nodes_ (neurons) that are arranged in a series of **layers**:\n",
    "\n",
    "![](https://www.tibco.com/sites/tibco/files/media_entity/2021-05/neutral-network-diagram.svg)"
   ]
  },
  {
   "cell_type": "markdown",
   "id": "cba0fd84-a88b-498f-b4bb-b70aa08a8791",
   "metadata": {},
   "source": [
    "Each connection is responsible to give a weight: $\\omega_i a_i$ and each layer is a summarization of them, plus a bias $b$, according too:\n",
    "\\begin{equation}\n",
    " b_{\\mu} + \\sum_{\\nu} W_{\\mu \\nu} a_{\\nu} .\n",
    "\\end{equation}\n",
    "Besides, we have another numeric transformation called **activation function**, responsible to perform a non linear transformation of the values of each layer\n",
    "\\begin{equation}\n",
    " y_{\\mu} = f \\left( b_{\\mu} + \\sum_{\\nu} W_{\\mu \\nu} a_{\\nu} \\right) ,\n",
    "\\end{equation}\n",
    "that can assume different forms:\n",
    "\n",
    "![](https://miro.medium.com/max/1200/1*ZafDv3VUm60Eh10OeJu1vw.png)"
   ]
  },
  {
   "cell_type": "markdown",
   "id": "3a05d583-64f2-475f-8794-7c947a26e5e7",
   "metadata": {},
   "source": [
    "During the **training process** these _weights_ are adjusted through **epochs** in order to minimize the difference between the network predictions $y_{pred}$, and the target values $y_{target}$ through the minimization of a **loss function** (that also can assume different forms). In this tutorial we are going to use the **Mean Squared Error** (**MSE**)\n",
    "\\begin{equation}\n",
    " MSE = \\frac{1}{m} \\sum_{i = 1}^m (y_{pred} - y_{target})^2 ,\n",
    "\\end{equation}"
   ]
  },
  {
   "cell_type": "markdown",
   "id": "243bf27b-2e0f-4dec-b484-c3d892587a33",
   "metadata": {},
   "source": [
    "### 3.1. Defining the model"
   ]
  },
  {
   "cell_type": "code",
   "execution_count": 10,
   "id": "7ea90475-0cb0-4fe4-be26-435b8d6736fa",
   "metadata": {},
   "outputs": [],
   "source": [
    "def base_model():\n",
    "    model = models.Sequential() \n",
    "    model.add(layers.Dense(16, activation = 'relu', input_shape = (x_train.shape[1],)))\n",
    "    model.add(layers.Dense(8, activation = 'relu'))\n",
    "    model.add(layers.Dense(3))\n",
    "    \n",
    "    print(model.summary())\n",
    "    \n",
    "    model.compile(optimizer = 'Adam', loss = 'mse')\n",
    "    \n",
    "    return model"
   ]
  },
  {
   "cell_type": "markdown",
   "id": "46328b9a-bf96-49f7-9135-5c39172ee3a1",
   "metadata": {},
   "source": [
    "Here you can visualize the model and their details"
   ]
  },
  {
   "cell_type": "code",
   "execution_count": 11,
   "id": "cc173ba6-4dfc-44e4-a660-cfac69f60f43",
   "metadata": {},
   "outputs": [
    {
     "name": "stdout",
     "output_type": "stream",
     "text": [
      "Model: \"sequential\"\n",
      "_________________________________________________________________\n",
      " Layer (type)                Output Shape              Param #   \n",
      "=================================================================\n",
      " dense (Dense)               (None, 16)                64        \n",
      "                                                                 \n",
      " dense_1 (Dense)             (None, 8)                 136       \n",
      "                                                                 \n",
      " dense_2 (Dense)             (None, 3)                 27        \n",
      "                                                                 \n",
      "=================================================================\n",
      "Total params: 227\n",
      "Trainable params: 227\n",
      "Non-trainable params: 0\n",
      "_________________________________________________________________\n",
      "None\n"
     ]
    },
    {
     "data": {
      "text/plain": [
       "<keras.engine.sequential.Sequential at 0x7fe2786625b0>"
      ]
     },
     "execution_count": 11,
     "metadata": {},
     "output_type": "execute_result"
    }
   ],
   "source": [
    "my_model = base_model()\n",
    "my_model"
   ]
  },
  {
   "cell_type": "markdown",
   "id": "dc26c662-d37e-4146-9176-bbf755ab500c",
   "metadata": {},
   "source": [
    "### 3.2. Fitting the model\n",
    "\n",
    "The learning process is made by the `fit` function"
   ]
  },
  {
   "cell_type": "code",
   "execution_count": 12,
   "id": "ced916ec-f2dc-45a6-a218-a8f7cd44f599",
   "metadata": {},
   "outputs": [
    {
     "name": "stdout",
     "output_type": "stream",
     "text": [
      "Epoch 1/100\n",
      "20/20 [==============================] - 1s 10ms/step - loss: 41.3654 - val_loss: 40.1480\n",
      "Epoch 2/100\n",
      "20/20 [==============================] - 0s 3ms/step - loss: 39.4494 - val_loss: 38.3005\n",
      "Epoch 3/100\n",
      "20/20 [==============================] - 0s 3ms/step - loss: 37.6033 - val_loss: 36.3499\n",
      "Epoch 4/100\n",
      "20/20 [==============================] - 0s 3ms/step - loss: 35.5382 - val_loss: 34.1397\n",
      "Epoch 5/100\n",
      "20/20 [==============================] - 0s 3ms/step - loss: 33.1631 - val_loss: 31.5548\n",
      "Epoch 6/100\n",
      "20/20 [==============================] - 0s 3ms/step - loss: 30.4460 - val_loss: 28.6574\n",
      "Epoch 7/100\n",
      "20/20 [==============================] - 0s 3ms/step - loss: 27.5049 - val_loss: 25.5347\n",
      "Epoch 8/100\n",
      "20/20 [==============================] - 0s 3ms/step - loss: 24.3574 - val_loss: 22.2752\n",
      "Epoch 9/100\n",
      "20/20 [==============================] - 0s 3ms/step - loss: 21.1205 - val_loss: 18.9476\n",
      "Epoch 10/100\n",
      "20/20 [==============================] - 0s 3ms/step - loss: 17.8729 - val_loss: 15.7107\n",
      "Epoch 11/100\n",
      "20/20 [==============================] - 0s 3ms/step - loss: 14.7500 - val_loss: 12.6734\n",
      "Epoch 12/100\n",
      "20/20 [==============================] - 0s 3ms/step - loss: 11.8897 - val_loss: 9.9427\n",
      "Epoch 13/100\n",
      "20/20 [==============================] - 0s 3ms/step - loss: 9.4138 - val_loss: 7.6860\n",
      "Epoch 14/100\n",
      "20/20 [==============================] - 0s 3ms/step - loss: 7.4014 - val_loss: 6.0004\n",
      "Epoch 15/100\n",
      "20/20 [==============================] - 0s 3ms/step - loss: 5.8891 - val_loss: 4.8186\n",
      "Epoch 16/100\n",
      "20/20 [==============================] - 0s 4ms/step - loss: 4.8263 - val_loss: 4.0385\n",
      "Epoch 17/100\n",
      "20/20 [==============================] - 0s 4ms/step - loss: 4.1240 - val_loss: 3.5399\n",
      "Epoch 18/100\n",
      "20/20 [==============================] - 0s 6ms/step - loss: 3.6324 - val_loss: 3.2274\n",
      "Epoch 19/100\n",
      "20/20 [==============================] - 0s 4ms/step - loss: 3.3080 - val_loss: 3.0014\n",
      "Epoch 20/100\n",
      "20/20 [==============================] - 0s 4ms/step - loss: 3.0625 - val_loss: 2.8099\n",
      "Epoch 21/100\n",
      "20/20 [==============================] - 0s 4ms/step - loss: 2.8527 - val_loss: 2.6220\n",
      "Epoch 22/100\n",
      "20/20 [==============================] - 0s 4ms/step - loss: 2.6550 - val_loss: 2.4579\n",
      "Epoch 23/100\n",
      "20/20 [==============================] - 0s 4ms/step - loss: 2.4644 - val_loss: 2.2723\n",
      "Epoch 24/100\n",
      "20/20 [==============================] - 0s 3ms/step - loss: 2.2950 - val_loss: 2.1256\n",
      "Epoch 25/100\n",
      "20/20 [==============================] - 0s 3ms/step - loss: 2.1363 - val_loss: 1.9794\n",
      "Epoch 26/100\n",
      "20/20 [==============================] - 0s 3ms/step - loss: 1.9922 - val_loss: 1.8603\n",
      "Epoch 27/100\n",
      "20/20 [==============================] - 0s 3ms/step - loss: 1.8570 - val_loss: 1.7187\n",
      "Epoch 28/100\n",
      "20/20 [==============================] - 0s 3ms/step - loss: 1.7351 - val_loss: 1.6180\n",
      "Epoch 29/100\n",
      "20/20 [==============================] - 0s 3ms/step - loss: 1.6213 - val_loss: 1.5202\n",
      "Epoch 30/100\n",
      "20/20 [==============================] - 0s 3ms/step - loss: 1.5189 - val_loss: 1.4244\n",
      "Epoch 31/100\n",
      "20/20 [==============================] - 0s 4ms/step - loss: 1.4239 - val_loss: 1.3299\n",
      "Epoch 32/100\n",
      "20/20 [==============================] - 0s 3ms/step - loss: 1.3324 - val_loss: 1.2653\n",
      "Epoch 33/100\n",
      "20/20 [==============================] - 0s 3ms/step - loss: 1.2511 - val_loss: 1.1994\n",
      "Epoch 34/100\n",
      "20/20 [==============================] - 0s 3ms/step - loss: 1.1768 - val_loss: 1.1211\n",
      "Epoch 35/100\n",
      "20/20 [==============================] - 0s 3ms/step - loss: 1.1058 - val_loss: 1.0638\n",
      "Epoch 36/100\n",
      "20/20 [==============================] - 0s 3ms/step - loss: 1.0420 - val_loss: 1.0003\n",
      "Epoch 37/100\n",
      "20/20 [==============================] - 0s 3ms/step - loss: 0.9812 - val_loss: 0.9623\n",
      "Epoch 38/100\n",
      "20/20 [==============================] - 0s 3ms/step - loss: 0.9252 - val_loss: 0.9120\n",
      "Epoch 39/100\n",
      "20/20 [==============================] - 0s 3ms/step - loss: 0.8753 - val_loss: 0.8783\n",
      "Epoch 40/100\n",
      "20/20 [==============================] - 0s 4ms/step - loss: 0.8273 - val_loss: 0.8314\n",
      "Epoch 41/100\n",
      "20/20 [==============================] - 0s 3ms/step - loss: 0.7865 - val_loss: 0.8044\n",
      "Epoch 42/100\n",
      "20/20 [==============================] - 0s 3ms/step - loss: 0.7442 - val_loss: 0.7588\n",
      "Epoch 43/100\n",
      "20/20 [==============================] - 0s 3ms/step - loss: 0.7070 - val_loss: 0.7287\n",
      "Epoch 44/100\n",
      "20/20 [==============================] - 0s 3ms/step - loss: 0.6738 - val_loss: 0.7073\n",
      "Epoch 45/100\n",
      "20/20 [==============================] - 0s 3ms/step - loss: 0.6441 - val_loss: 0.6792\n",
      "Epoch 46/100\n",
      "20/20 [==============================] - 0s 3ms/step - loss: 0.6168 - val_loss: 0.6575\n",
      "Epoch 47/100\n",
      "20/20 [==============================] - 0s 3ms/step - loss: 0.5897 - val_loss: 0.6388\n",
      "Epoch 48/100\n",
      "20/20 [==============================] - 0s 3ms/step - loss: 0.5690 - val_loss: 0.6118\n",
      "Epoch 49/100\n",
      "20/20 [==============================] - 0s 3ms/step - loss: 0.5448 - val_loss: 0.6056\n",
      "Epoch 50/100\n",
      "20/20 [==============================] - 0s 3ms/step - loss: 0.5234 - val_loss: 0.5824\n",
      "Epoch 51/100\n",
      "20/20 [==============================] - 0s 3ms/step - loss: 0.5062 - val_loss: 0.5612\n",
      "Epoch 52/100\n",
      "20/20 [==============================] - 0s 3ms/step - loss: 0.4885 - val_loss: 0.5464\n",
      "Epoch 53/100\n",
      "20/20 [==============================] - 0s 3ms/step - loss: 0.4738 - val_loss: 0.5309\n",
      "Epoch 54/100\n",
      "20/20 [==============================] - 0s 3ms/step - loss: 0.4598 - val_loss: 0.5222\n",
      "Epoch 55/100\n",
      "20/20 [==============================] - 0s 3ms/step - loss: 0.4453 - val_loss: 0.5081\n",
      "Epoch 56/100\n",
      "20/20 [==============================] - 0s 3ms/step - loss: 0.4347 - val_loss: 0.4959\n",
      "Epoch 57/100\n",
      "20/20 [==============================] - 0s 3ms/step - loss: 0.4264 - val_loss: 0.4928\n",
      "Epoch 58/100\n",
      "20/20 [==============================] - 0s 3ms/step - loss: 0.4133 - val_loss: 0.4736\n",
      "Epoch 59/100\n",
      "20/20 [==============================] - 0s 3ms/step - loss: 0.4038 - val_loss: 0.4640\n",
      "Epoch 60/100\n",
      "20/20 [==============================] - 0s 3ms/step - loss: 0.3956 - val_loss: 0.4538\n",
      "Epoch 61/100\n",
      "20/20 [==============================] - 0s 3ms/step - loss: 0.3857 - val_loss: 0.4411\n",
      "Epoch 62/100\n",
      "20/20 [==============================] - 0s 3ms/step - loss: 0.3771 - val_loss: 0.4349\n",
      "Epoch 63/100\n",
      "20/20 [==============================] - 0s 3ms/step - loss: 0.3691 - val_loss: 0.4279\n",
      "Epoch 64/100\n",
      "20/20 [==============================] - 0s 4ms/step - loss: 0.3642 - val_loss: 0.4134\n",
      "Epoch 65/100\n",
      "20/20 [==============================] - 0s 3ms/step - loss: 0.3556 - val_loss: 0.4088\n",
      "Epoch 66/100\n",
      "20/20 [==============================] - 0s 3ms/step - loss: 0.3497 - val_loss: 0.4098\n",
      "Epoch 67/100\n",
      "20/20 [==============================] - 0s 3ms/step - loss: 0.3434 - val_loss: 0.3966\n",
      "Epoch 68/100\n",
      "20/20 [==============================] - 0s 3ms/step - loss: 0.3396 - val_loss: 0.3932\n",
      "Epoch 69/100\n",
      "20/20 [==============================] - 0s 3ms/step - loss: 0.3354 - val_loss: 0.3889\n",
      "Epoch 70/100\n",
      "20/20 [==============================] - 0s 3ms/step - loss: 0.3304 - val_loss: 0.3855\n",
      "Epoch 71/100\n",
      "20/20 [==============================] - 0s 3ms/step - loss: 0.3268 - val_loss: 0.3829\n",
      "Epoch 72/100\n",
      "20/20 [==============================] - 0s 3ms/step - loss: 0.3239 - val_loss: 0.3781\n",
      "Epoch 73/100\n",
      "20/20 [==============================] - 0s 3ms/step - loss: 0.3193 - val_loss: 0.3786\n",
      "Epoch 74/100\n",
      "20/20 [==============================] - 0s 4ms/step - loss: 0.3160 - val_loss: 0.3751\n",
      "Epoch 75/100\n",
      "20/20 [==============================] - 0s 3ms/step - loss: 0.3111 - val_loss: 0.3654\n",
      "Epoch 76/100\n",
      "20/20 [==============================] - 0s 3ms/step - loss: 0.3096 - val_loss: 0.3656\n",
      "Epoch 77/100\n",
      "20/20 [==============================] - 0s 3ms/step - loss: 0.3046 - val_loss: 0.3634\n",
      "Epoch 78/100\n",
      "20/20 [==============================] - 0s 3ms/step - loss: 0.3017 - val_loss: 0.3593\n",
      "Epoch 79/100\n",
      "20/20 [==============================] - 0s 3ms/step - loss: 0.3001 - val_loss: 0.3565\n",
      "Epoch 80/100\n",
      "20/20 [==============================] - 0s 3ms/step - loss: 0.2964 - val_loss: 0.3572\n",
      "Epoch 81/100\n",
      "20/20 [==============================] - 0s 3ms/step - loss: 0.2943 - val_loss: 0.3538\n",
      "Epoch 82/100\n",
      "20/20 [==============================] - 0s 3ms/step - loss: 0.2921 - val_loss: 0.3493\n",
      "Epoch 83/100\n",
      "20/20 [==============================] - 0s 3ms/step - loss: 0.2899 - val_loss: 0.3515\n",
      "Epoch 84/100\n",
      "20/20 [==============================] - 0s 3ms/step - loss: 0.2877 - val_loss: 0.3481\n",
      "Epoch 85/100\n",
      "20/20 [==============================] - 0s 3ms/step - loss: 0.2851 - val_loss: 0.3431\n",
      "Epoch 86/100\n",
      "20/20 [==============================] - 0s 4ms/step - loss: 0.2831 - val_loss: 0.3423\n",
      "Epoch 87/100\n",
      "20/20 [==============================] - 0s 3ms/step - loss: 0.2810 - val_loss: 0.3396\n",
      "Epoch 88/100\n",
      "20/20 [==============================] - 0s 3ms/step - loss: 0.2794 - val_loss: 0.3394\n",
      "Epoch 89/100\n",
      "20/20 [==============================] - 0s 3ms/step - loss: 0.2777 - val_loss: 0.3381\n",
      "Epoch 90/100\n",
      "20/20 [==============================] - 0s 3ms/step - loss: 0.2761 - val_loss: 0.3312\n",
      "Epoch 91/100\n",
      "20/20 [==============================] - 0s 3ms/step - loss: 0.2743 - val_loss: 0.3337\n",
      "Epoch 92/100\n",
      "20/20 [==============================] - 0s 3ms/step - loss: 0.2744 - val_loss: 0.3328\n",
      "Epoch 93/100\n",
      "20/20 [==============================] - 0s 3ms/step - loss: 0.2713 - val_loss: 0.3306\n",
      "Epoch 94/100\n",
      "20/20 [==============================] - 0s 3ms/step - loss: 0.2702 - val_loss: 0.3255\n",
      "Epoch 95/100\n",
      "20/20 [==============================] - 0s 3ms/step - loss: 0.2677 - val_loss: 0.3291\n",
      "Epoch 96/100\n",
      "20/20 [==============================] - 0s 3ms/step - loss: 0.2667 - val_loss: 0.3264\n",
      "Epoch 97/100\n",
      "20/20 [==============================] - 0s 3ms/step - loss: 0.2658 - val_loss: 0.3232\n",
      "Epoch 98/100\n",
      "20/20 [==============================] - 0s 3ms/step - loss: 0.2644 - val_loss: 0.3225\n",
      "Epoch 99/100\n",
      "20/20 [==============================] - 0s 3ms/step - loss: 0.2640 - val_loss: 0.3223\n",
      "Epoch 100/100\n",
      "20/20 [==============================] - 0s 3ms/step - loss: 0.2633 - val_loss: 0.3202\n"
     ]
    },
    {
     "data": {
      "text/plain": [
       "<keras.callbacks.History at 0x7fe2592972b0>"
      ]
     },
     "execution_count": 12,
     "metadata": {},
     "output_type": "execute_result"
    }
   ],
   "source": [
    "#Fitting data\n",
    "no_epochs = 100\n",
    "batch_size = 50\n",
    "validation_split = 0.2\n",
    "history = my_model.fit(x_train, y_train, epochs = no_epochs, batch_size = batch_size, validation_split = validation_split)\n",
    "history"
   ]
  },
  {
   "cell_type": "markdown",
   "id": "fb8bf74d-fe1d-439b-8440-fa4420161ed5",
   "metadata": {},
   "source": [
    "To see if we don't have over/under fitting we can analyse the validation and training losses"
   ]
  },
  {
   "cell_type": "code",
   "execution_count": 13,
   "id": "4a7ccebc-0406-42b6-96f3-e82cedc471cc",
   "metadata": {},
   "outputs": [],
   "source": [
    "train_loss = history.history['loss']\n",
    "train_val_loss = history.history['val_loss']\n",
    "epochs = range(1, len(train_loss) + 1)"
   ]
  },
  {
   "cell_type": "code",
   "execution_count": 14,
   "id": "e36ea0c2-28a1-4578-aa53-9285f808984c",
   "metadata": {},
   "outputs": [
    {
     "data": {
      "text/plain": [
       "Text(0.5, 0, 'Epochs')"
      ]
     },
     "execution_count": 14,
     "metadata": {},
     "output_type": "execute_result"
    },
    {
     "data": {
      "image/png": "[encoded data removed]",
      "text/plain": [
       "<Figure size 600x400 with 1 Axes>"
      ]
     },
     "metadata": {
      "needs_background": "light"
     },
     "output_type": "display_data"
    }
   ],
   "source": [
    "plt.figure(dpi=100)\n",
    "plt.plot(epochs, train_loss, color = 'black',label = 'Loss')\n",
    "plt.scatter(epochs, train_val_loss, s = 5, color = 'red', label = 'Val Loss')\n",
    "plt.legend()  \n",
    "plt.title('MSE loss: All')\n",
    "plt.ylabel('Loss')\n",
    "plt.xlabel('Epochs')"
   ]
  },
  {
   "cell_type": "markdown",
   "id": "88121ec9-0827-4066-bad4-2829a8969b8b",
   "metadata": {},
   "source": [
    "### 3.3. Doing the predictions\n",
    "\n",
    "The predictions are done using the `predict` function"
   ]
  },
  {
   "cell_type": "code",
   "execution_count": 15,
   "id": "5854e96d-dced-4bcb-8188-ecc56eeba446",
   "metadata": {},
   "outputs": [
    {
     "name": "stdout",
     "output_type": "stream",
     "text": [
      "10/10 [==============================] - 0s 1ms/step\n"
     ]
    }
   ],
   "source": [
    "#Prediction\n",
    "prediction = my_model.predict(x_test)"
   ]
  },
  {
   "cell_type": "markdown",
   "id": "878a255c-70f3-47ec-903d-32fe03f6ba56",
   "metadata": {},
   "source": [
    "### 3.4. Performance\n",
    "\n",
    "#### a) We check the final performance taking a look of some metric computed over the predictions"
   ]
  },
  {
   "cell_type": "code",
   "execution_count": 16,
   "id": "48ddfa93-8159-45bf-a676-ea83117a6e8f",
   "metadata": {},
   "outputs": [
    {
     "data": {
      "text/plain": [
       "array([0.12273631, 0.02548263, 0.60331504])"
      ]
     },
     "execution_count": 16,
     "metadata": {},
     "output_type": "execute_result"
    }
   ],
   "source": [
    "#Scores\n",
    "MSE = np.zeros((3))\n",
    "for i in range(3):\n",
    "    MSE[i] = mean_squared_error(prediction[:, i], y_test[:, i])\n",
    "MSE"
   ]
  },
  {
   "cell_type": "markdown",
   "id": "4cd91332-dc3f-4a2e-8b08-a6c2385a2974",
   "metadata": {},
   "source": [
    "#### b) Visualizing the results"
   ]
  },
  {
   "cell_type": "markdown",
   "id": "4960a287-8cd4-4781-8349-967bb0bc9546",
   "metadata": {},
   "source": [
    "Scatter plot"
   ]
  },
  {
   "cell_type": "code",
   "execution_count": 17,
   "id": "4eb59ce9-f010-4490-bd90-abb9cd7a8437",
   "metadata": {},
   "outputs": [
    {
     "data": {
      "text/plain": [
       "<matplotlib.legend.Legend at 0x7fe1cc09a7c0>"
      ]
     },
     "execution_count": 17,
     "metadata": {},
     "output_type": "execute_result"
    },
    {
     "data": {
      "image/png": "[encoded data removed]",
      "text/plain": [
       "<Figure size 1500x500 with 3 Axes>"
      ]
     },
     "metadata": {
      "needs_background": "light"
     },
     "output_type": "display_data"
    }
   ],
   "source": [
    "fig = plt.figure(dpi = 100, figsize = (15, 5))\n",
    "gs = fig.add_gridspec(1, 3)\n",
    "axs = gs.subplots()\n",
    "\n",
    "fig.suptitle('Galaxy predictions')\n",
    "\n",
    "axs[0].scatter(y_test[:, 0], prediction[:, 0], s = 5, color = 'C0', label = '$M_{\\star}$')\n",
    "axs[0].set_xlabel(r'Truth')\n",
    "axs[0].plot(y_test[:, 0], y_test[:, 0], color = 'black')\n",
    "axs[0].set_ylabel(r'Predition')\n",
    "axs[0].legend()\n",
    "\n",
    "axs[1].scatter(y_test[:, 1], prediction[:, 1], s = 5, color = 'C1', label = 'Color')\n",
    "axs[1].set_xlabel(r'Truth')\n",
    "axs[1].plot(y_test[:, 1], y_test[:, 1], color = 'black')\n",
    "axs[1].legend()\n",
    "\n",
    "axs[2].scatter(y_test[:, 2], prediction[:, 2], s = 5, color = 'C2', label = 'SFR')\n",
    "axs[2].plot(y_test[:, 2], y_test[:, 2], color = 'black')\n",
    "axs[2].set_xlabel(r'Truth')\n",
    "axs[2].legend()"
   ]
  },
  {
   "cell_type": "markdown",
   "id": "f3200f76-24e9-40b9-baea-5185b1df27ed",
   "metadata": {},
   "source": [
    "Histogram"
   ]
  },
  {
   "cell_type": "code",
   "execution_count": 18,
   "id": "2d0e4908-7d82-42c9-aecc-4c3c4bb6b7d6",
   "metadata": {},
   "outputs": [
    {
     "data": {
      "image/png": "[encoded data removed]",
      "text/plain": [
       "<Figure size 1500x500 with 3 Axes>"
      ]
     },
     "metadata": {
      "needs_background": "light"
     },
     "output_type": "display_data"
    }
   ],
   "source": [
    "fig = plt.figure(dpi = 100, figsize = (15, 5))\n",
    "gs = fig.add_gridspec(1, 3)\n",
    "axs = gs.subplots()\n",
    "\n",
    "fig.suptitle('Galaxy predictions')\n",
    "\n",
    "bins = np.linspace(np.min(y_test[:, 0]), np.max(y_test[:, 0]), 10)\n",
    "axs[0].hist(y_test[:, 0], bins = bins, color = 'gray', label = 'Truth')\n",
    "axs[0].hist(prediction[:, 0], bins = bins, color = 'C0', alpha = 0.5, label = 'Predition')\n",
    "axs[0].set_xlabel(r'$M_{\\star}$')\n",
    "axs[0].set_ylabel(r'# galaxies')\n",
    "axs[0].legend()\n",
    "axs[0].set_yscale('log')\n",
    "\n",
    "bins = np.linspace(np.min(y_test[:, 1]), np.max(y_test[:, 1]), 10)\n",
    "axs[1].hist(y_test[:, 1], bins = bins, color = 'gray', label = 'Truth')\n",
    "axs[1].hist(prediction[:, 1], bins = bins, color = 'C1', alpha = 0.5, label = 'Predition')\n",
    "axs[1].set_xlabel(r'Color')\n",
    "axs[1].set_ylabel(r'# galaxies')\n",
    "axs[1].legend()\n",
    "axs[1].set_yscale('log')\n",
    "\n",
    "bins = np.linspace(np.min(y_test[:, 2]), np.max(y_test[:, 2]), 10)\n",
    "axs[2].hist(y_test[:, 2], bins = bins, color = 'gray', label = 'Truth')\n",
    "axs[2].hist(prediction[:, 2], bins = bins, color = 'C2', alpha = 0.5, label = 'Predition')\n",
    "axs[2].set_xlabel(r'SFR')\n",
    "axs[2].set_ylabel(r'# galaxies')\n",
    "axs[2].legend()\n",
    "axs[2].set_yscale('log')"
   ]
  },
  {
   "cell_type": "code",
   "execution_count": null,
   "id": "c907291d-d5bc-4b28-8a1d-8c3b0b44589a",
   "metadata": {},
   "outputs": [],
   "source": []
  }
 ],
 "metadata": {
  "kernelspec": {
   "display_name": "Python 3",
   "language": "python",
   "name": "python3"
  },
  "language_info": {
   "codemirror_mode": {
    "name": "ipython",
    "version": 3
   },
   "file_extension": ".py",
   "mimetype": "text/x-python",
   "name": "python",
   "nbconvert_exporter": "python",
   "pygments_lexer": "ipython3",
   "version": "3.8.10"
  }
 },
 "nbformat": 4,
 "nbformat_minor": 5
}
